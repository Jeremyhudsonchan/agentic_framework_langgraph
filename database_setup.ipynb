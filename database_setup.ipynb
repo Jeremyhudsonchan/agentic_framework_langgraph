{
 "cells": [
  {
   "cell_type": "code",
   "execution_count": 15,
   "metadata": {},
   "outputs": [],
   "source": [
    "import sqlite3"
   ]
  },
  {
   "cell_type": "code",
   "execution_count": 16,
   "metadata": {},
   "outputs": [],
   "source": [
    "db = sqlite3.connect('database/data.db', check_same_thread=False)\n",
    "\n",
    "cursor = db.cursor()"
   ]
  },
  {
   "cell_type": "code",
   "execution_count": 5,
   "metadata": {},
   "outputs": [
    {
     "data": {
      "text/plain": [
       "(100000.0,)"
      ]
     },
     "execution_count": 5,
     "metadata": {},
     "output_type": "execute_result"
    }
   ],
   "source": [
    "cursor.execute(\n",
    "    f\"SELECT balance FROM users WHERE account_number = 987654321 AND userid = 1\"\n",
    ")\n",
    "result = cursor.fetchone()\n",
    "result"
   ]
  },
  {
   "cell_type": "code",
   "execution_count": 18,
   "metadata": {},
   "outputs": [
    {
     "data": {
      "text/plain": [
       "<sqlite3.Cursor at 0x105b191c0>"
      ]
     },
     "execution_count": 18,
     "metadata": {},
     "output_type": "execute_result"
    }
   ],
   "source": [
    "# create table with columns: userid, username, password, email, phone, address, account balance\n",
    "cursor.execute('''\n",
    "CREATE TABLE users(rowid INTEGER PRIMARY KEY, userid INTEGER , username TEXT, password TEXT, email TEXT, phone TEXT, address TEXT, balance REAL, account_number INTEGER)\n",
    "''')"
   ]
  },
  {
   "cell_type": "code",
   "execution_count": 19,
   "metadata": {},
   "outputs": [
    {
     "data": {
      "text/plain": [
       "<sqlite3.Cursor at 0x105b191c0>"
      ]
     },
     "execution_count": 19,
     "metadata": {},
     "output_type": "execute_result"
    }
   ],
   "source": [
    "# insert a row of data\n",
    "cursor.execute('''\n",
    "INSERT INTO users(userid, username, password, email, phone, address, balance, account_number) VALUES('1234', 'admin', 'password123', 'admin@localhost' , '1234567890', 'localhost', 1000, 1357924680)\n",
    "''')\n",
    "# insert a row of data\n",
    "cursor.execute('''\n",
    "INSERT INTO users(userid, username, password, email, phone, address, balance, account_number) VALUES('1234', 'admin', 'password123', 'admin@localhost' , '1234567890', 'localhost', 1000, 0987654321)\n",
    "''')\n"
   ]
  },
  {
   "cell_type": "code",
   "execution_count": 20,
   "metadata": {},
   "outputs": [],
   "source": [
    "# commit the changes\n",
    "db.commit()\n"
   ]
  },
  {
   "cell_type": "code",
   "execution_count": null,
   "metadata": {},
   "outputs": [],
   "source": []
  }
 ],
 "metadata": {
  "kernelspec": {
   "display_name": "venv",
   "language": "python",
   "name": "python3"
  },
  "language_info": {
   "codemirror_mode": {
    "name": "ipython",
    "version": 3
   },
   "file_extension": ".py",
   "mimetype": "text/x-python",
   "name": "python",
   "nbconvert_exporter": "python",
   "pygments_lexer": "ipython3",
   "version": "3.12.8"
  }
 },
 "nbformat": 4,
 "nbformat_minor": 2
}
